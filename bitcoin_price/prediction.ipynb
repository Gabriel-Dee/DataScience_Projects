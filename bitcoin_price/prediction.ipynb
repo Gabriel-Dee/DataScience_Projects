{
 "cells": [
  {
   "cell_type": "code",
   "execution_count": 88,
   "id": "9925ad2f-9c50-45e5-8533-eebf1a5fd7d2",
   "metadata": {},
   "outputs": [],
   "source": [
    "import yfinance as yf\n",
    "import os\n",
    "import pandas as pd"
   ]
  },
  {
   "cell_type": "code",
   "execution_count": 89,
   "id": "130eb0f5-a3ab-4b7a-a3aa-bb1c8437d6f2",
   "metadata": {},
   "outputs": [],
   "source": [
    "btc_ticker = yf.Ticker(\"BTC-USD\")"
   ]
  },
  {
   "cell_type": "code",
   "execution_count": 90,
   "id": "d71ca889-3406-4139-9da6-792dfc844e19",
   "metadata": {},
   "outputs": [],
   "source": [
    "if os.path.exists(\"btc.csv\"):\n",
    "    btc = pd.read_csv(\"btc.csv\", index_col=0)\n",
    "else:\n",
    "    btc = btc_ticker.history(period=\"max\")\n",
    "    btc.to_csv(\"btc.csv\")"
   ]
  },
  {
   "cell_type": "code",
   "execution_count": 91,
   "id": "fae85f03-d041-4cdd-832b-5a769e998236",
   "metadata": {},
   "outputs": [
    {
     "data": {
      "text/html": [
       "<div>\n",
       "<style scoped>\n",
       "    .dataframe tbody tr th:only-of-type {\n",
       "        vertical-align: middle;\n",
       "    }\n",
       "\n",
       "    .dataframe tbody tr th {\n",
       "        vertical-align: top;\n",
       "    }\n",
       "\n",
       "    .dataframe thead th {\n",
       "        text-align: right;\n",
       "    }\n",
       "</style>\n",
       "<table border=\"1\" class=\"dataframe\">\n",
       "  <thead>\n",
       "    <tr style=\"text-align: right;\">\n",
       "      <th></th>\n",
       "      <th>Open</th>\n",
       "      <th>High</th>\n",
       "      <th>Low</th>\n",
       "      <th>Close</th>\n",
       "      <th>Volume</th>\n",
       "      <th>Dividends</th>\n",
       "      <th>Stock Splits</th>\n",
       "    </tr>\n",
       "    <tr>\n",
       "      <th>Date</th>\n",
       "      <th></th>\n",
       "      <th></th>\n",
       "      <th></th>\n",
       "      <th></th>\n",
       "      <th></th>\n",
       "      <th></th>\n",
       "      <th></th>\n",
       "    </tr>\n",
       "  </thead>\n",
       "  <tbody>\n",
       "    <tr>\n",
       "      <th>2014-09-17</th>\n",
       "      <td>465.864014</td>\n",
       "      <td>468.174011</td>\n",
       "      <td>452.421997</td>\n",
       "      <td>457.334015</td>\n",
       "      <td>21056800</td>\n",
       "      <td>0</td>\n",
       "      <td>0</td>\n",
       "    </tr>\n",
       "    <tr>\n",
       "      <th>2014-09-18</th>\n",
       "      <td>456.859985</td>\n",
       "      <td>456.859985</td>\n",
       "      <td>413.104004</td>\n",
       "      <td>424.440002</td>\n",
       "      <td>34483200</td>\n",
       "      <td>0</td>\n",
       "      <td>0</td>\n",
       "    </tr>\n",
       "    <tr>\n",
       "      <th>2014-09-19</th>\n",
       "      <td>424.102997</td>\n",
       "      <td>427.834991</td>\n",
       "      <td>384.532013</td>\n",
       "      <td>394.795990</td>\n",
       "      <td>37919700</td>\n",
       "      <td>0</td>\n",
       "      <td>0</td>\n",
       "    </tr>\n",
       "    <tr>\n",
       "      <th>2014-09-20</th>\n",
       "      <td>394.673004</td>\n",
       "      <td>423.295990</td>\n",
       "      <td>389.882996</td>\n",
       "      <td>408.903992</td>\n",
       "      <td>36863600</td>\n",
       "      <td>0</td>\n",
       "      <td>0</td>\n",
       "    </tr>\n",
       "    <tr>\n",
       "      <th>2014-09-21</th>\n",
       "      <td>408.084991</td>\n",
       "      <td>412.425995</td>\n",
       "      <td>393.181000</td>\n",
       "      <td>398.821014</td>\n",
       "      <td>26580100</td>\n",
       "      <td>0</td>\n",
       "      <td>0</td>\n",
       "    </tr>\n",
       "    <tr>\n",
       "      <th>...</th>\n",
       "      <td>...</td>\n",
       "      <td>...</td>\n",
       "      <td>...</td>\n",
       "      <td>...</td>\n",
       "      <td>...</td>\n",
       "      <td>...</td>\n",
       "      <td>...</td>\n",
       "    </tr>\n",
       "    <tr>\n",
       "      <th>2022-09-04</th>\n",
       "      <td>19832.470703</td>\n",
       "      <td>19999.689453</td>\n",
       "      <td>19636.816406</td>\n",
       "      <td>19986.712891</td>\n",
       "      <td>25245861652</td>\n",
       "      <td>0</td>\n",
       "      <td>0</td>\n",
       "    </tr>\n",
       "    <tr>\n",
       "      <th>2022-09-05</th>\n",
       "      <td>19988.789062</td>\n",
       "      <td>20031.160156</td>\n",
       "      <td>19673.046875</td>\n",
       "      <td>19812.371094</td>\n",
       "      <td>28813460025</td>\n",
       "      <td>0</td>\n",
       "      <td>0</td>\n",
       "    </tr>\n",
       "    <tr>\n",
       "      <th>2022-09-06</th>\n",
       "      <td>19817.724609</td>\n",
       "      <td>20155.269531</td>\n",
       "      <td>18800.171875</td>\n",
       "      <td>18837.667969</td>\n",
       "      <td>43403978910</td>\n",
       "      <td>0</td>\n",
       "      <td>0</td>\n",
       "    </tr>\n",
       "    <tr>\n",
       "      <th>2022-09-07</th>\n",
       "      <td>18837.683594</td>\n",
       "      <td>19427.171875</td>\n",
       "      <td>18644.466797</td>\n",
       "      <td>19290.324219</td>\n",
       "      <td>35239757134</td>\n",
       "      <td>0</td>\n",
       "      <td>0</td>\n",
       "    </tr>\n",
       "    <tr>\n",
       "      <th>2022-09-08</th>\n",
       "      <td>19309.482422</td>\n",
       "      <td>19410.619141</td>\n",
       "      <td>19089.548828</td>\n",
       "      <td>19337.371094</td>\n",
       "      <td>33201930240</td>\n",
       "      <td>0</td>\n",
       "      <td>0</td>\n",
       "    </tr>\n",
       "  </tbody>\n",
       "</table>\n",
       "<p>2914 rows × 7 columns</p>\n",
       "</div>"
      ],
      "text/plain": [
       "                    Open          High           Low         Close  \\\n",
       "Date                                                                 \n",
       "2014-09-17    465.864014    468.174011    452.421997    457.334015   \n",
       "2014-09-18    456.859985    456.859985    413.104004    424.440002   \n",
       "2014-09-19    424.102997    427.834991    384.532013    394.795990   \n",
       "2014-09-20    394.673004    423.295990    389.882996    408.903992   \n",
       "2014-09-21    408.084991    412.425995    393.181000    398.821014   \n",
       "...                  ...           ...           ...           ...   \n",
       "2022-09-04  19832.470703  19999.689453  19636.816406  19986.712891   \n",
       "2022-09-05  19988.789062  20031.160156  19673.046875  19812.371094   \n",
       "2022-09-06  19817.724609  20155.269531  18800.171875  18837.667969   \n",
       "2022-09-07  18837.683594  19427.171875  18644.466797  19290.324219   \n",
       "2022-09-08  19309.482422  19410.619141  19089.548828  19337.371094   \n",
       "\n",
       "                 Volume  Dividends  Stock Splits  \n",
       "Date                                              \n",
       "2014-09-17     21056800          0             0  \n",
       "2014-09-18     34483200          0             0  \n",
       "2014-09-19     37919700          0             0  \n",
       "2014-09-20     36863600          0             0  \n",
       "2014-09-21     26580100          0             0  \n",
       "...                 ...        ...           ...  \n",
       "2022-09-04  25245861652          0             0  \n",
       "2022-09-05  28813460025          0             0  \n",
       "2022-09-06  43403978910          0             0  \n",
       "2022-09-07  35239757134          0             0  \n",
       "2022-09-08  33201930240          0             0  \n",
       "\n",
       "[2914 rows x 7 columns]"
      ]
     },
     "execution_count": 91,
     "metadata": {},
     "output_type": "execute_result"
    }
   ],
   "source": [
    "btc"
   ]
  },
  {
   "cell_type": "code",
   "execution_count": 92,
   "id": "086d0aef-f2e4-42eb-9e41-4e4bad1f13d1",
   "metadata": {},
   "outputs": [],
   "source": [
    "btc.index = pd.to_datetime(btc.index)"
   ]
  },
  {
   "cell_type": "code",
   "execution_count": 93,
   "id": "1067f63d-91fd-425a-80a1-fccd1eba3612",
   "metadata": {},
   "outputs": [],
   "source": [
    "del btc[\"Dividends\"]\n",
    "del btc[\"Stock Splits\"]"
   ]
  },
  {
   "cell_type": "code",
   "execution_count": 94,
   "id": "1fd1a503-412e-419f-b3e0-e32bf829ed0d",
   "metadata": {},
   "outputs": [],
   "source": [
    "btc.columns = [c.lower() for c in btc.columns]"
   ]
  },
  {
   "cell_type": "code",
   "execution_count": 95,
   "id": "0f3d1839-bc67-45b7-b1a0-8d8f60c62b50",
   "metadata": {},
   "outputs": [
    {
     "data": {
      "text/plain": [
       "<AxesSubplot:xlabel='Date'>"
      ]
     },
     "execution_count": 95,
     "metadata": {},
     "output_type": "execute_result"
    },
    {
     "data": {
      "image/png": "[encoded data removed]",
      "text/plain": [
       "<Figure size 432x288 with 1 Axes>"
      ]
     },
     "metadata": {
      "needs_background": "light"
     },
     "output_type": "display_data"
    }
   ],
   "source": [
    "btc.plot.line(y=\"close\", use_index=True)"
   ]
  },
  {
   "cell_type": "code",
   "execution_count": 96,
   "id": "17bb4150-7dc3-4dcb-92ac-5b2149899563",
   "metadata": {},
   "outputs": [],
   "source": [
    "wiki = pd.read_csv(\"wikipedia_edits.csv\", index_col=0, parse_dates=True)"
   ]
  },
  {
   "cell_type": "code",
   "execution_count": 97,
   "id": "10685b74-a2fb-4399-9a50-83d1fb0a986a",
   "metadata": {},
   "outputs": [
    {
     "data": {
      "text/html": [
       "<div>\n",
       "<style scoped>\n",
       "    .dataframe tbody tr th:only-of-type {\n",
       "        vertical-align: middle;\n",
       "    }\n",
       "\n",
       "    .dataframe tbody tr th {\n",
       "        vertical-align: top;\n",
       "    }\n",
       "\n",
       "    .dataframe thead th {\n",
       "        text-align: right;\n",
       "    }\n",
       "</style>\n",
       "<table border=\"1\" class=\"dataframe\">\n",
       "  <thead>\n",
       "    <tr style=\"text-align: right;\">\n",
       "      <th></th>\n",
       "      <th>edit_count</th>\n",
       "      <th>sentiment</th>\n",
       "      <th>neg_sentiment</th>\n",
       "    </tr>\n",
       "  </thead>\n",
       "  <tbody>\n",
       "    <tr>\n",
       "      <th>2009-04-06</th>\n",
       "      <td>0.133333</td>\n",
       "      <td>-0.018351</td>\n",
       "      <td>0.025000</td>\n",
       "    </tr>\n",
       "    <tr>\n",
       "      <th>2009-04-07</th>\n",
       "      <td>0.000000</td>\n",
       "      <td>0.000000</td>\n",
       "      <td>0.000000</td>\n",
       "    </tr>\n",
       "    <tr>\n",
       "      <th>2009-04-08</th>\n",
       "      <td>0.000000</td>\n",
       "      <td>0.000000</td>\n",
       "      <td>0.000000</td>\n",
       "    </tr>\n",
       "    <tr>\n",
       "      <th>2009-04-09</th>\n",
       "      <td>0.000000</td>\n",
       "      <td>0.000000</td>\n",
       "      <td>0.000000</td>\n",
       "    </tr>\n",
       "    <tr>\n",
       "      <th>2009-04-10</th>\n",
       "      <td>0.000000</td>\n",
       "      <td>0.000000</td>\n",
       "      <td>0.000000</td>\n",
       "    </tr>\n",
       "    <tr>\n",
       "      <th>...</th>\n",
       "      <td>...</td>\n",
       "      <td>...</td>\n",
       "      <td>...</td>\n",
       "    </tr>\n",
       "    <tr>\n",
       "      <th>2022-09-04</th>\n",
       "      <td>0.400000</td>\n",
       "      <td>-0.108480</td>\n",
       "      <td>0.150000</td>\n",
       "    </tr>\n",
       "    <tr>\n",
       "      <th>2022-09-05</th>\n",
       "      <td>0.400000</td>\n",
       "      <td>-0.108480</td>\n",
       "      <td>0.150000</td>\n",
       "    </tr>\n",
       "    <tr>\n",
       "      <th>2022-09-06</th>\n",
       "      <td>0.433333</td>\n",
       "      <td>-0.081502</td>\n",
       "      <td>0.150000</td>\n",
       "    </tr>\n",
       "    <tr>\n",
       "      <th>2022-09-07</th>\n",
       "      <td>0.433333</td>\n",
       "      <td>-0.081502</td>\n",
       "      <td>0.150000</td>\n",
       "    </tr>\n",
       "    <tr>\n",
       "      <th>2022-09-08</th>\n",
       "      <td>0.466667</td>\n",
       "      <td>-0.114104</td>\n",
       "      <td>0.183333</td>\n",
       "    </tr>\n",
       "  </tbody>\n",
       "</table>\n",
       "<p>4904 rows × 3 columns</p>\n",
       "</div>"
      ],
      "text/plain": [
       "            edit_count  sentiment  neg_sentiment\n",
       "2009-04-06    0.133333  -0.018351       0.025000\n",
       "2009-04-07    0.000000   0.000000       0.000000\n",
       "2009-04-08    0.000000   0.000000       0.000000\n",
       "2009-04-09    0.000000   0.000000       0.000000\n",
       "2009-04-10    0.000000   0.000000       0.000000\n",
       "...                ...        ...            ...\n",
       "2022-09-04    0.400000  -0.108480       0.150000\n",
       "2022-09-05    0.400000  -0.108480       0.150000\n",
       "2022-09-06    0.433333  -0.081502       0.150000\n",
       "2022-09-07    0.433333  -0.081502       0.150000\n",
       "2022-09-08    0.466667  -0.114104       0.183333\n",
       "\n",
       "[4904 rows x 3 columns]"
      ]
     },
     "execution_count": 97,
     "metadata": {},
     "output_type": "execute_result"
    }
   ],
   "source": [
    "wiki"
   ]
  },
  {
   "cell_type": "code",
   "execution_count": 98,
   "id": "dbb1b8f3-2058-4e67-9b86-0aef8cfde65c",
   "metadata": {},
   "outputs": [],
   "source": [
    "btc = btc.merge(wiki, left_index=True, right_index=True)"
   ]
  },
  {
   "cell_type": "code",
   "execution_count": 99,
   "id": "8767cdef-7b18-4902-ab92-e2f9d802f174",
   "metadata": {},
   "outputs": [],
   "source": [
    "btc[\"tomorrow\"] = btc[\"close\"].shift(-1)"
   ]
  },
  {
   "cell_type": "code",
   "execution_count": 100,
   "id": "bef1484f-353d-4bdf-afbf-9274b396d8a2",
   "metadata": {},
   "outputs": [],
   "source": [
    "btc[\"target\"] = (btc[\"tomorrow\"] > btc[\"close\"]).astype(int)"
   ]
  },
  {
   "cell_type": "code",
   "execution_count": 101,
   "id": "c696cca8-ff0b-4735-b87d-5d41e6d8eccf",
   "metadata": {},
   "outputs": [
    {
     "data": {
      "text/plain": [
       "1    1563\n",
       "0    1351\n",
       "Name: target, dtype: int64"
      ]
     },
     "execution_count": 101,
     "metadata": {},
     "output_type": "execute_result"
    }
   ],
   "source": [
    "btc[\"target\"].value_counts()"
   ]
  },
  {
   "cell_type": "code",
   "execution_count": 102,
   "id": "641e7710-24e0-408a-83e4-9c651fac29a7",
   "metadata": {},
   "outputs": [
    {
     "data": {
      "text/html": [
       "<div>\n",
       "<style scoped>\n",
       "    .dataframe tbody tr th:only-of-type {\n",
       "        vertical-align: middle;\n",
       "    }\n",
       "\n",
       "    .dataframe tbody tr th {\n",
       "        vertical-align: top;\n",
       "    }\n",
       "\n",
       "    .dataframe thead th {\n",
       "        text-align: right;\n",
       "    }\n",
       "</style>\n",
       "<table border=\"1\" class=\"dataframe\">\n",
       "  <thead>\n",
       "    <tr style=\"text-align: right;\">\n",
       "      <th></th>\n",
       "      <th>open</th>\n",
       "      <th>high</th>\n",
       "      <th>low</th>\n",
       "      <th>close</th>\n",
       "      <th>volume</th>\n",
       "      <th>edit_count</th>\n",
       "      <th>sentiment</th>\n",
       "      <th>neg_sentiment</th>\n",
       "      <th>tomorrow</th>\n",
       "      <th>target</th>\n",
       "    </tr>\n",
       "  </thead>\n",
       "  <tbody>\n",
       "    <tr>\n",
       "      <th>2014-09-17</th>\n",
       "      <td>465.864014</td>\n",
       "      <td>468.174011</td>\n",
       "      <td>452.421997</td>\n",
       "      <td>457.334015</td>\n",
       "      <td>21056800</td>\n",
       "      <td>5.033333</td>\n",
       "      <td>-0.232191</td>\n",
       "      <td>0.532718</td>\n",
       "      <td>424.440002</td>\n",
       "      <td>0</td>\n",
       "    </tr>\n",
       "    <tr>\n",
       "      <th>2014-09-18</th>\n",
       "      <td>456.859985</td>\n",
       "      <td>456.859985</td>\n",
       "      <td>413.104004</td>\n",
       "      <td>424.440002</td>\n",
       "      <td>34483200</td>\n",
       "      <td>5.066667</td>\n",
       "      <td>-0.232759</td>\n",
       "      <td>0.532718</td>\n",
       "      <td>394.795990</td>\n",
       "      <td>0</td>\n",
       "    </tr>\n",
       "    <tr>\n",
       "      <th>2014-09-19</th>\n",
       "      <td>424.102997</td>\n",
       "      <td>427.834991</td>\n",
       "      <td>384.532013</td>\n",
       "      <td>394.795990</td>\n",
       "      <td>37919700</td>\n",
       "      <td>5.200000</td>\n",
       "      <td>-0.235415</td>\n",
       "      <td>0.549385</td>\n",
       "      <td>408.903992</td>\n",
       "      <td>1</td>\n",
       "    </tr>\n",
       "    <tr>\n",
       "      <th>2014-09-20</th>\n",
       "      <td>394.673004</td>\n",
       "      <td>423.295990</td>\n",
       "      <td>389.882996</td>\n",
       "      <td>408.903992</td>\n",
       "      <td>36863600</td>\n",
       "      <td>5.200000</td>\n",
       "      <td>-0.233185</td>\n",
       "      <td>0.549385</td>\n",
       "      <td>398.821014</td>\n",
       "      <td>0</td>\n",
       "    </tr>\n",
       "    <tr>\n",
       "      <th>2014-09-21</th>\n",
       "      <td>408.084991</td>\n",
       "      <td>412.425995</td>\n",
       "      <td>393.181000</td>\n",
       "      <td>398.821014</td>\n",
       "      <td>26580100</td>\n",
       "      <td>5.233333</td>\n",
       "      <td>-0.204017</td>\n",
       "      <td>0.532718</td>\n",
       "      <td>402.152008</td>\n",
       "      <td>1</td>\n",
       "    </tr>\n",
       "    <tr>\n",
       "      <th>...</th>\n",
       "      <td>...</td>\n",
       "      <td>...</td>\n",
       "      <td>...</td>\n",
       "      <td>...</td>\n",
       "      <td>...</td>\n",
       "      <td>...</td>\n",
       "      <td>...</td>\n",
       "      <td>...</td>\n",
       "      <td>...</td>\n",
       "      <td>...</td>\n",
       "    </tr>\n",
       "    <tr>\n",
       "      <th>2022-09-04</th>\n",
       "      <td>19832.470703</td>\n",
       "      <td>19999.689453</td>\n",
       "      <td>19636.816406</td>\n",
       "      <td>19986.712891</td>\n",
       "      <td>25245861652</td>\n",
       "      <td>0.400000</td>\n",
       "      <td>-0.108480</td>\n",
       "      <td>0.150000</td>\n",
       "      <td>19812.371094</td>\n",
       "      <td>0</td>\n",
       "    </tr>\n",
       "    <tr>\n",
       "      <th>2022-09-05</th>\n",
       "      <td>19988.789062</td>\n",
       "      <td>20031.160156</td>\n",
       "      <td>19673.046875</td>\n",
       "      <td>19812.371094</td>\n",
       "      <td>28813460025</td>\n",
       "      <td>0.400000</td>\n",
       "      <td>-0.108480</td>\n",
       "      <td>0.150000</td>\n",
       "      <td>18837.667969</td>\n",
       "      <td>0</td>\n",
       "    </tr>\n",
       "    <tr>\n",
       "      <th>2022-09-06</th>\n",
       "      <td>19817.724609</td>\n",
       "      <td>20155.269531</td>\n",
       "      <td>18800.171875</td>\n",
       "      <td>18837.667969</td>\n",
       "      <td>43403978910</td>\n",
       "      <td>0.433333</td>\n",
       "      <td>-0.081502</td>\n",
       "      <td>0.150000</td>\n",
       "      <td>19290.324219</td>\n",
       "      <td>1</td>\n",
       "    </tr>\n",
       "    <tr>\n",
       "      <th>2022-09-07</th>\n",
       "      <td>18837.683594</td>\n",
       "      <td>19427.171875</td>\n",
       "      <td>18644.466797</td>\n",
       "      <td>19290.324219</td>\n",
       "      <td>35239757134</td>\n",
       "      <td>0.433333</td>\n",
       "      <td>-0.081502</td>\n",
       "      <td>0.150000</td>\n",
       "      <td>19337.371094</td>\n",
       "      <td>1</td>\n",
       "    </tr>\n",
       "    <tr>\n",
       "      <th>2022-09-08</th>\n",
       "      <td>19309.482422</td>\n",
       "      <td>19410.619141</td>\n",
       "      <td>19089.548828</td>\n",
       "      <td>19337.371094</td>\n",
       "      <td>33201930240</td>\n",
       "      <td>0.466667</td>\n",
       "      <td>-0.114104</td>\n",
       "      <td>0.183333</td>\n",
       "      <td>NaN</td>\n",
       "      <td>0</td>\n",
       "    </tr>\n",
       "  </tbody>\n",
       "</table>\n",
       "<p>2914 rows × 10 columns</p>\n",
       "</div>"
      ],
      "text/plain": [
       "                    open          high           low         close  \\\n",
       "2014-09-17    465.864014    468.174011    452.421997    457.334015   \n",
       "2014-09-18    456.859985    456.859985    413.104004    424.440002   \n",
       "2014-09-19    424.102997    427.834991    384.532013    394.795990   \n",
       "2014-09-20    394.673004    423.295990    389.882996    408.903992   \n",
       "2014-09-21    408.084991    412.425995    393.181000    398.821014   \n",
       "...                  ...           ...           ...           ...   \n",
       "2022-09-04  19832.470703  19999.689453  19636.816406  19986.712891   \n",
       "2022-09-05  19988.789062  20031.160156  19673.046875  19812.371094   \n",
       "2022-09-06  19817.724609  20155.269531  18800.171875  18837.667969   \n",
       "2022-09-07  18837.683594  19427.171875  18644.466797  19290.324219   \n",
       "2022-09-08  19309.482422  19410.619141  19089.548828  19337.371094   \n",
       "\n",
       "                 volume  edit_count  sentiment  neg_sentiment      tomorrow  \\\n",
       "2014-09-17     21056800    5.033333  -0.232191       0.532718    424.440002   \n",
       "2014-09-18     34483200    5.066667  -0.232759       0.532718    394.795990   \n",
       "2014-09-19     37919700    5.200000  -0.235415       0.549385    408.903992   \n",
       "2014-09-20     36863600    5.200000  -0.233185       0.549385    398.821014   \n",
       "2014-09-21     26580100    5.233333  -0.204017       0.532718    402.152008   \n",
       "...                 ...         ...        ...            ...           ...   \n",
       "2022-09-04  25245861652    0.400000  -0.108480       0.150000  19812.371094   \n",
       "2022-09-05  28813460025    0.400000  -0.108480       0.150000  18837.667969   \n",
       "2022-09-06  43403978910    0.433333  -0.081502       0.150000  19290.324219   \n",
       "2022-09-07  35239757134    0.433333  -0.081502       0.150000  19337.371094   \n",
       "2022-09-08  33201930240    0.466667  -0.114104       0.183333           NaN   \n",
       "\n",
       "            target  \n",
       "2014-09-17       0  \n",
       "2014-09-18       0  \n",
       "2014-09-19       1  \n",
       "2014-09-20       0  \n",
       "2014-09-21       1  \n",
       "...            ...  \n",
       "2022-09-04       0  \n",
       "2022-09-05       0  \n",
       "2022-09-06       1  \n",
       "2022-09-07       1  \n",
       "2022-09-08       0  \n",
       "\n",
       "[2914 rows x 10 columns]"
      ]
     },
     "execution_count": 102,
     "metadata": {},
     "output_type": "execute_result"
    }
   ],
   "source": [
    "btc"
   ]
  },
  {
   "cell_type": "code",
   "execution_count": 103,
   "id": "4f781df2-f1a6-4499-ad69-8749daadc142",
   "metadata": {},
   "outputs": [
    {
     "data": {
      "text/plain": [
       "RandomForestClassifier(min_samples_split=50, random_state=1)"
      ]
     },
     "execution_count": 103,
     "metadata": {},
     "output_type": "execute_result"
    }
   ],
   "source": [
    "from sklearn.ensemble import RandomForestClassifier\n",
    "\n",
    "model = RandomForestClassifier(n_estimators=100, min_samples_split=50, random_state=1)\n",
    "\n",
    "train = btc.iloc[:-200]\n",
    "test = btc.iloc[-200:]\n",
    "\n",
    "predictors = [\"close\", \"volume\", \"open\", \"high\", \"low\", \"edit_count\", \"sentiment\", \"neg_sentiment\"]\n",
    "model.fit(train[predictors], train[\"target\"])"
   ]
  },
  {
   "cell_type": "code",
   "execution_count": 104,
   "id": "5db58bd9-009f-400c-9692-1d0787d40de8",
   "metadata": {},
   "outputs": [
    {
     "data": {
      "text/plain": [
       "0.48484848484848486"
      ]
     },
     "execution_count": 104,
     "metadata": {},
     "output_type": "execute_result"
    }
   ],
   "source": [
    "from sklearn.metrics import precision_score\n",
    "\n",
    "preds = model.predict(test[predictors])\n",
    "preds = pd.Series(preds, index=test.index)\n",
    "precision_score(test[\"target\"], preds)"
   ]
  },
  {
   "cell_type": "code",
   "execution_count": 105,
   "id": "bce7d7dd-4f0d-4405-ad17-42516045941f",
   "metadata": {},
   "outputs": [],
   "source": [
    "def predict(train, test, predictors, model):\n",
    "    model.fit(train[predictors], train[\"target\"])\n",
    "    preds = model.predict(test[predictors])\n",
    "    preds = pd.Series(preds, index=test.index, name=\"predictions\")\n",
    "    combined = pd.concat([test[\"target\"], preds], axis=1)\n",
    "    return combined"
   ]
  },
  {
   "cell_type": "code",
   "execution_count": 106,
   "id": "bec7bbe6-7c57-4ae9-82ca-404182d8218d",
   "metadata": {},
   "outputs": [],
   "source": [
    "def backtest(data, model, predictors, start=1095, step=150):\n",
    "    all_predictions = []\n",
    "\n",
    "    for i in range(start, data.shape[0], step):\n",
    "        train = data.iloc[0:i].copy()\n",
    "        test = data.iloc[i:(i+step)].copy()\n",
    "        predictions = predict(train, test, predictors, model)\n",
    "        all_predictions.append(predictions)\n",
    "    \n",
    "    return pd.concat(all_predictions)"
   ]
  },
  {
   "cell_type": "code",
   "execution_count": 107,
   "id": "0d70183c-1ee0-48e8-b012-16804463e6d0",
   "metadata": {},
   "outputs": [],
   "source": [
    "from xgboost import XGBClassifier\n",
    "\n",
    "model = XGBClassifier(random_state=1, learning_rate=.1, n_estimators=200)\n",
    "predictions = backtest(btc, model, predictors)"
   ]
  },
  {
   "cell_type": "code",
   "execution_count": 108,
   "id": "c363f4ad-68ae-4733-8cfa-fc61b1a15e6f",
   "metadata": {},
   "outputs": [
    {
     "data": {
      "text/plain": [
       "1    1084\n",
       "0     735\n",
       "Name: predictions, dtype: int64"
      ]
     },
     "execution_count": 108,
     "metadata": {},
     "output_type": "execute_result"
    }
   ],
   "source": [
    "predictions[\"predictions\"].value_counts()"
   ]
  },
  {
   "cell_type": "code",
   "execution_count": 109,
   "id": "ed54e2de-089d-450b-8a5e-88d4a2dbdfcd",
   "metadata": {},
   "outputs": [
    {
     "data": {
      "text/plain": [
       "0.5009225092250923"
      ]
     },
     "execution_count": 109,
     "metadata": {},
     "output_type": "execute_result"
    }
   ],
   "source": [
    "precision_score(predictions[\"target\"], predictions[\"predictions\"])"
   ]
  },
  {
   "cell_type": "code",
   "execution_count": 110,
   "id": "ef3a6fd5-4e97-4011-be28-9fd115c8b004",
   "metadata": {},
   "outputs": [],
   "source": [
    "def compute_rolling(btc):\n",
    "    horizons = [2,7,60,365]\n",
    "    new_predictors = [\"close\", \"sentiment\", \"neg_sentiment\"]\n",
    "\n",
    "    for horizon in horizons:\n",
    "        rolling_averages = btc.rolling(horizon, min_periods=1).mean()\n",
    "\n",
    "        ratio_column = f\"close_ratio_{horizon}\"\n",
    "        btc[ratio_column] = btc[\"close\"] / rolling_averages[\"close\"]\n",
    "        \n",
    "        edit_column = f\"edit_{horizon}\"\n",
    "        btc[edit_column] = rolling_averages[\"edit_count\"]\n",
    "\n",
    "        rolling = btc.rolling(horizon, closed='left', min_periods=1).mean()\n",
    "        trend_column = f\"trend_{horizon}\"\n",
    "        btc[trend_column] = rolling[\"target\"]\n",
    "\n",
    "        new_predictors+= [ratio_column, trend_column, edit_column]\n",
    "    return btc, new_predictors"
   ]
  },
  {
   "cell_type": "code",
   "execution_count": 111,
   "id": "bb127d2d-5bef-42d1-89ad-759bdbb45a7e",
   "metadata": {},
   "outputs": [],
   "source": [
    "btc, new_predictors = compute_rolling(btc.copy())"
   ]
  },
  {
   "cell_type": "code",
   "execution_count": 112,
   "id": "159bf89c-e329-4d1c-a21d-fed642d2dad2",
   "metadata": {},
   "outputs": [],
   "source": [
    "predictions = backtest(btc, model, new_predictors)"
   ]
  },
  {
   "cell_type": "code",
   "execution_count": 113,
   "id": "ab6dbc06-6137-4f5b-8276-731c94541c29",
   "metadata": {},
   "outputs": [
    {
     "data": {
      "text/plain": [
       "0.5386289445048966"
      ]
     },
     "execution_count": 113,
     "metadata": {},
     "output_type": "execute_result"
    }
   ],
   "source": [
    "precision_score(predictions[\"target\"], predictions[\"predictions\"])"
   ]
  },
  {
   "cell_type": "code",
   "execution_count": 114,
   "id": "4187bd69-6af6-4e18-a6a6-069a36dc841e",
   "metadata": {},
   "outputs": [
    {
     "data": {
      "text/html": [
       "<div>\n",
       "<style scoped>\n",
       "    .dataframe tbody tr th:only-of-type {\n",
       "        vertical-align: middle;\n",
       "    }\n",
       "\n",
       "    .dataframe tbody tr th {\n",
       "        vertical-align: top;\n",
       "    }\n",
       "\n",
       "    .dataframe thead th {\n",
       "        text-align: right;\n",
       "    }\n",
       "</style>\n",
       "<table border=\"1\" class=\"dataframe\">\n",
       "  <thead>\n",
       "    <tr style=\"text-align: right;\">\n",
       "      <th></th>\n",
       "      <th>target</th>\n",
       "      <th>predictions</th>\n",
       "    </tr>\n",
       "  </thead>\n",
       "  <tbody>\n",
       "    <tr>\n",
       "      <th>2017-09-16</th>\n",
       "      <td>0</td>\n",
       "      <td>1</td>\n",
       "    </tr>\n",
       "    <tr>\n",
       "      <th>2017-09-17</th>\n",
       "      <td>1</td>\n",
       "      <td>0</td>\n",
       "    </tr>\n",
       "    <tr>\n",
       "      <th>2017-09-18</th>\n",
       "      <td>0</td>\n",
       "      <td>0</td>\n",
       "    </tr>\n",
       "    <tr>\n",
       "      <th>2017-09-19</th>\n",
       "      <td>0</td>\n",
       "      <td>1</td>\n",
       "    </tr>\n",
       "    <tr>\n",
       "      <th>2017-09-20</th>\n",
       "      <td>0</td>\n",
       "      <td>1</td>\n",
       "    </tr>\n",
       "    <tr>\n",
       "      <th>...</th>\n",
       "      <td>...</td>\n",
       "      <td>...</td>\n",
       "    </tr>\n",
       "    <tr>\n",
       "      <th>2022-09-04</th>\n",
       "      <td>0</td>\n",
       "      <td>1</td>\n",
       "    </tr>\n",
       "    <tr>\n",
       "      <th>2022-09-05</th>\n",
       "      <td>0</td>\n",
       "      <td>1</td>\n",
       "    </tr>\n",
       "    <tr>\n",
       "      <th>2022-09-06</th>\n",
       "      <td>1</td>\n",
       "      <td>1</td>\n",
       "    </tr>\n",
       "    <tr>\n",
       "      <th>2022-09-07</th>\n",
       "      <td>1</td>\n",
       "      <td>1</td>\n",
       "    </tr>\n",
       "    <tr>\n",
       "      <th>2022-09-08</th>\n",
       "      <td>0</td>\n",
       "      <td>1</td>\n",
       "    </tr>\n",
       "  </tbody>\n",
       "</table>\n",
       "<p>1819 rows × 2 columns</p>\n",
       "</div>"
      ],
      "text/plain": [
       "            target  predictions\n",
       "2017-09-16       0            1\n",
       "2017-09-17       1            0\n",
       "2017-09-18       0            0\n",
       "2017-09-19       0            1\n",
       "2017-09-20       0            1\n",
       "...            ...          ...\n",
       "2022-09-04       0            1\n",
       "2022-09-05       0            1\n",
       "2022-09-06       1            1\n",
       "2022-09-07       1            1\n",
       "2022-09-08       0            1\n",
       "\n",
       "[1819 rows x 2 columns]"
      ]
     },
     "execution_count": 114,
     "metadata": {},
     "output_type": "execute_result"
    }
   ],
   "source": [
    "predictions"
   ]
  },
  {
   "cell_type": "code",
   "execution_count": null,
   "id": "7bc631c2-0677-40dc-b57b-89eaf2182be6",
   "metadata": {},
   "outputs": [],
   "source": []
  }
 ],
 "metadata": {
  "kernelspec": {
   "display_name": "Python 3 (ipykernel)",
   "language": "python",
   "name": "python3"
  },
  "language_info": {
   "codemirror_mode": {
    "name": "ipython",
    "version": 3
   },
   "file_extension": ".py",
   "mimetype": "text/x-python",
   "name": "python",
   "nbconvert_exporter": "python",
   "pygments_lexer": "ipython3",
   "version": "3.9.13"
  }
 },
 "nbformat": 4,
 "nbformat_minor": 5
}
