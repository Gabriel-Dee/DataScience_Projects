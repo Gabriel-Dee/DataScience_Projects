{
 "cells": [
  {
   "cell_type": "code",
   "execution_count": 4,
   "id": "94b9059a-bc2d-4750-b00d-16b1092c720e",
   "metadata": {},
   "outputs": [],
   "source": [
    "import numpy as np\n",
    "# implement needleman-wunsch\n",
    "seq1 = \"ATTAAAGGTTTA\"\n",
    "seq2 = \"CAACTTTCGATC\"\n",
    "\n",
    "scores = np.zeros((len(seq1) + 1, len(seq2) + 1))\n",
    "scores[:,0] = [-1 * i for i in range(0, len(seq1)+1)]\n",
    "scores[0,:] = [-1 * i for i in range(0, len(seq2)+1)]"
   ]
  },
  {
   "cell_type": "code",
   "execution_count": 16,
   "id": "ec953e0a-bebe-4986-9889-275883fb1ddb",
   "metadata": {},
   "outputs": [],
   "source": [
    "# implement needleman-wunsch\n",
    "pointers = {}\n",
    "indel_score = -1\n",
    "match_score = 1\n",
    "\n",
    "for i in range(1, len(seq1) * 2):\n",
    "    row_sel = i\n",
    "    col_sel = 1\n",
    "    while row_sel >= 1 and col_sel < len(seq2)+1:\n",
    "        if row_sel >= len(seq1)+1:\n",
    "            row_sel -= 1\n",
    "            col_sel += 1\n",
    "            continue\n",
    "        diag = scores[row_sel-1,col_sel-1]\n",
    "        left = scores[row_sel, col_sel-1] - 1\n",
    "        top = scores[row_sel-1, col_sel] - 1\n",
    "        \n",
    "        if seq1[row_sel-1] == seq2[col_sel-1]:\n",
    "            diag += 1\n",
    "        else:\n",
    "            diag -= 1\n",
    "        \n",
    "        combined = [diag, left, top]\n",
    "        max_combined = max(combined)\n",
    "        ind = [i for i, j in enumerate(combined) if j == max_combined]\n",
    "        \n",
    "        pointer_key = \"{}_{}\".format(row_sel, col_sel)\n",
    "        pointers[pointer_key] = []\n",
    "        if 0 in ind:\n",
    "            pointers[pointer_key].append((row_sel-1,col_sel-1))\n",
    "        if 1 in ind:\n",
    "            pointers[pointer_key].append((row_sel, col_sel-1))\n",
    "        if 2 in ind:\n",
    "            pointers[pointer_key].append((row_sel-1, col_sel))\n",
    "            \n",
    "        scores[row_sel, col_sel] = max_combined\n",
    "        row_sel -= 1\n",
    "        col_sel += 1"
   ]
  },
  {
   "cell_type": "code",
   "execution_count": 32,
   "id": "f3ec0d89-b011-478b-a890-4b8f997db760",
   "metadata": {},
   "outputs": [],
   "source": [
    "# implement needleman-wunsch\n",
    "alignments = []\n",
    "\n",
    "def parse_alignments(row, col, align1, align2):\n",
    "    pointer_index = \"{}_{}\".format(row, col)\n",
    "    if row==1 and col==1:\n",
    "        alignments.append([align1, align2])\n",
    "        return\n",
    "    if pointer_index not in pointers:\n",
    "        return\n",
    "\n",
    "    for pointer in pointers[pointer_index]:\n",
    "        if pointer[0] == row:\n",
    "            parse_alignments(pointer[0], pointer[1], \"_\" +  align1, seq2[col-1] + align2)\n",
    "        elif pointer[1] == col:\n",
    "            parse_alignments(pointer[0], pointer[1], seq1[row-1] + align1, \"_\" + align2)\n",
    "        else:\n",
    "            parse_alignments(pointer[0], pointer[1], seq1[row-1] + align1, seq2[col-1] + align2)"
   ]
  },
  {
   "cell_type": "code",
   "execution_count": 33,
   "id": "1bf69c23-a889-4fd3-9a44-52c67d49e38c",
   "metadata": {},
   "outputs": [
    {
     "data": {
      "text/plain": [
       "[['TTAAAGGTTT__A__', '___AA_CTTTCGATC'],\n",
       " ['TTAAAGGTTT__A__', '__A_A_CTTTCGATC'],\n",
       " ['TTAAAGGTTT__A__', '__AA__CTTTCGATC'],\n",
       " ['TTAAAGGTTT__A__', '___AAC_TTTCGATC'],\n",
       " ['TTAAAGGTTT__A__', '__A_AC_TTTCGATC'],\n",
       " ['TTAAAGGTTT__A__', '__AA_C_TTTCGATC'],\n",
       " ['TTAAAGGTTT__A__', '__AAC__TTTCGATC']]"
      ]
     },
     "execution_count": 33,
     "metadata": {},
     "output_type": "execute_result"
    }
   ],
   "source": [
    "# implement needleman-wunsch\n",
    "parse_alignments(scores.shape[0]-1, scores.shape[1]-1, \"\", \"\")\n",
    "alignments"
   ]
  },
  {
   "cell_type": "code",
   "execution_count": 34,
   "id": "569991a5-b007-42c9-8e03-599d8f6f69a0",
   "metadata": {},
   "outputs": [
    {
     "name": "stdout",
     "output_type": "stream",
     "text": [
      "TTAAAGGTTT__A__\n",
      "___AA_CTTTCGATC\n"
     ]
    }
   ],
   "source": [
    "print(alignments[0][0])\n",
    "print(alignments[0][1])"
   ]
  },
  {
   "cell_type": "code",
   "execution_count": null,
   "id": "8be771ef-645f-4d16-8885-067498ab3e0b",
   "metadata": {},
   "outputs": [],
   "source": []
  }
 ],
 "metadata": {
  "kernelspec": {
   "display_name": "Python 3 (ipykernel)",
   "language": "python",
   "name": "python3"
  },
  "language_info": {
   "codemirror_mode": {
    "name": "ipython",
    "version": 3
   },
   "file_extension": ".py",
   "mimetype": "text/x-python",
   "name": "python",
   "nbconvert_exporter": "python",
   "pygments_lexer": "ipython3",
   "version": "3.9.7"
  }
 },
 "nbformat": 4,
 "nbformat_minor": 5
}
