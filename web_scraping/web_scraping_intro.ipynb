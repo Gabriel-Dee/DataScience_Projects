{
 "cells": [
  {
   "cell_type": "code",
   "execution_count": 12,
   "id": "2bfcfca1-b289-47f5-94ec-4f930445e5bf",
   "metadata": {},
   "outputs": [],
   "source": [
    "from bs4 import BeautifulSoup"
   ]
  },
  {
   "cell_type": "code",
   "execution_count": 13,
   "id": "f37baec3-4a3a-4ef6-bf18-538c75fab795",
   "metadata": {},
   "outputs": [],
   "source": [
    "with open(\"manual.html\", \"r\") as f:\n",
    "    page = f.read()"
   ]
  },
  {
   "cell_type": "code",
   "execution_count": 14,
   "id": "43f6a321-1644-4bc2-bfd7-1fa379dd50e1",
   "metadata": {},
   "outputs": [],
   "source": [
    "soup = BeautifulSoup(page, 'html.parser')"
   ]
  },
  {
   "cell_type": "code",
   "execution_count": null,
   "id": "2c6167f1-467a-4e09-8c0c-8d83325b4dab",
   "metadata": {},
   "outputs": [],
   "source": [
    "soup.select('article')"
   ]
  },
  {
   "cell_type": "code",
   "execution_count": 23,
   "id": "50a4e3a5-0aa2-4bce-b3bb-a3a36ef8e6dc",
   "metadata": {},
   "outputs": [
    {
     "data": {
      "text/plain": [
       "[<h3 class=\"css-5pe77f\" itemprop=\"name\">RUN, ROSE, RUN</h3>,\n",
       " <h3 class=\"css-5pe77f\" itemprop=\"name\">SHADOWS REEL</h3>,\n",
       " <h3 class=\"css-5pe77f\" itemprop=\"name\">IT ENDS WITH US</h3>,\n",
       " <h3 class=\"css-5pe77f\" itemprop=\"name\">HIGH STAKES</h3>,\n",
       " <h3 class=\"css-5pe77f\" itemprop=\"name\">VERITY</h3>,\n",
       " <h3 class=\"css-5pe77f\" itemprop=\"name\">THE PARIS APARTMENT</h3>,\n",
       " <h3 class=\"css-5pe77f\" itemprop=\"name\">THE SEVEN HUSBANDS OF EVELYN HUGO</h3>,\n",
       " <h3 class=\"css-5pe77f\" itemprop=\"name\">THE GOLDEN COUPLE</h3>,\n",
       " <h3 class=\"css-5pe77f\" itemprop=\"name\">THE LIGHTNING ROD</h3>,\n",
       " <h3 class=\"css-5pe77f\" itemprop=\"name\">ONE ITALIAN SUMMER</h3>,\n",
       " <h3 class=\"css-5pe77f\" itemprop=\"name\">THE LOVE HYPOTHESIS</h3>,\n",
       " <h3 class=\"css-5pe77f\" itemprop=\"name\">PEOPLE WE MEET ON VACATION</h3>,\n",
       " <h3 class=\"css-5pe77f\" itemprop=\"name\">THE MIDNIGHT LIBRARY</h3>,\n",
       " <h3 class=\"css-5pe77f\" itemprop=\"name\">THE LINCOLN HIGHWAY</h3>,\n",
       " <h3 class=\"css-5pe77f\" itemprop=\"name\">THE MAID</h3>]"
      ]
     },
     "execution_count": 23,
     "metadata": {},
     "output_type": "execute_result"
    }
   ],
   "source": [
    "soup.select('article h3[itemprop=\"name\"]')"
   ]
  },
  {
   "cell_type": "code",
   "execution_count": 25,
   "id": "efb63e6d-245d-47b5-9191-1a3cf4714662",
   "metadata": {},
   "outputs": [],
   "source": [
    "results = soup.select('article h3[itemprop=\"name\"]')"
   ]
  },
  {
   "cell_type": "code",
   "execution_count": 27,
   "id": "b663f5de-5567-4380-b439-fc7559067407",
   "metadata": {},
   "outputs": [
    {
     "data": {
      "text/plain": [
       "bs4.element.ResultSet"
      ]
     },
     "execution_count": 27,
     "metadata": {},
     "output_type": "execute_result"
    }
   ],
   "source": [
    "type(results)"
   ]
  },
  {
   "cell_type": "code",
   "execution_count": 28,
   "id": "a3839f46-3017-4927-9c6c-e8911d7d4bb7",
   "metadata": {},
   "outputs": [
    {
     "data": {
      "text/plain": [
       "<h3 class=\"css-5pe77f\" itemprop=\"name\">RUN, ROSE, RUN</h3>"
      ]
     },
     "execution_count": 28,
     "metadata": {},
     "output_type": "execute_result"
    }
   ],
   "source": [
    "results[0]"
   ]
  },
  {
   "cell_type": "code",
   "execution_count": 33,
   "id": "18aa242c-e62b-4d30-9b14-09052fe99c01",
   "metadata": {},
   "outputs": [
    {
     "data": {
      "text/plain": [
       "'RUN, ROSE, RUN'"
      ]
     },
     "execution_count": 33,
     "metadata": {},
     "output_type": "execute_result"
    }
   ],
   "source": [
    "results[0].text"
   ]
  },
  {
   "cell_type": "code",
   "execution_count": 34,
   "id": "86f70ca2-252f-4a26-a385-dcd301311f93",
   "metadata": {},
   "outputs": [],
   "source": [
    "titles = [r.text for r in results]"
   ]
  },
  {
   "cell_type": "code",
   "execution_count": 35,
   "id": "e7391d98-60c9-400c-a8bb-946b79eca54f",
   "metadata": {},
   "outputs": [
    {
     "data": {
      "text/plain": [
       "['RUN, ROSE, RUN',\n",
       " 'SHADOWS REEL',\n",
       " 'IT ENDS WITH US',\n",
       " 'HIGH STAKES',\n",
       " 'VERITY',\n",
       " 'THE PARIS APARTMENT',\n",
       " 'THE SEVEN HUSBANDS OF EVELYN HUGO',\n",
       " 'THE GOLDEN COUPLE',\n",
       " 'THE LIGHTNING ROD',\n",
       " 'ONE ITALIAN SUMMER',\n",
       " 'THE LOVE HYPOTHESIS',\n",
       " 'PEOPLE WE MEET ON VACATION',\n",
       " 'THE MIDNIGHT LIBRARY',\n",
       " 'THE LINCOLN HIGHWAY',\n",
       " 'THE MAID']"
      ]
     },
     "execution_count": 35,
     "metadata": {},
     "output_type": "execute_result"
    }
   ],
   "source": [
    "titles"
   ]
  },
  {
   "cell_type": "code",
   "execution_count": 39,
   "id": "3ab71e87-9495-43f7-9fbb-7911c074f815",
   "metadata": {},
   "outputs": [],
   "source": [
    "results = soup.select('article p[itemprop=\"author\"]')"
   ]
  },
  {
   "cell_type": "code",
   "execution_count": 40,
   "id": "7eade836-ed73-4952-8b47-d4ab888ef016",
   "metadata": {},
   "outputs": [],
   "source": [
    "authors = [r.text for r in results]"
   ]
  },
  {
   "cell_type": "code",
   "execution_count": 41,
   "id": "d42e927a-0fad-403d-8f21-305b9121a6ff",
   "metadata": {},
   "outputs": [
    {
     "data": {
      "text/plain": [
       "['by Dolly Parton and James Patterson',\n",
       " 'by C.J. Box',\n",
       " 'by Colleen Hoover',\n",
       " 'by Danielle Steel',\n",
       " 'by Colleen Hoover',\n",
       " 'by Lucy Foley',\n",
       " 'by Taylor Jenkins Reid',\n",
       " 'by Greer Hendricks and Sarah Pekkanen',\n",
       " 'by Brad Meltzer',\n",
       " 'by Rebecca Serle',\n",
       " 'by Ali Hazelwood',\n",
       " 'by Emily Henry',\n",
       " 'by Matt Haig',\n",
       " 'by Amor Towles',\n",
       " 'by Nita Prose']"
      ]
     },
     "execution_count": 41,
     "metadata": {},
     "output_type": "execute_result"
    }
   ],
   "source": [
    "authors"
   ]
  },
  {
   "cell_type": "code",
   "execution_count": 45,
   "id": "30d11786-2b2d-4838-9f19-2be61c7009cc",
   "metadata": {},
   "outputs": [],
   "source": [
    "results = soup.select('article img[itemprop=\"image\"]')"
   ]
  },
  {
   "cell_type": "code",
   "execution_count": 46,
   "id": "52987a9c-0d9b-4ffa-8d3c-87ef38f13c15",
   "metadata": {},
   "outputs": [
    {
     "data": {
      "text/plain": [
       "[<img alt=\"RUN, ROSE, RUN by Dolly Parton and James Patterson\" itemprop=\"image\" role=\"presentation\" src=\"https://storage.googleapis.com/du-prd/books/images/9780759554344.jpg\"/>,\n",
       " <img alt=\"SHADOWS REEL by C.J. Box\" itemprop=\"image\" role=\"presentation\" src=\"https://storage.googleapis.com/du-prd/books/images/9780593331262.jpg\"/>,\n",
       " <img alt=\"IT ENDS WITH US by Colleen Hoover\" itemprop=\"image\" role=\"presentation\" src=\"https://storage.googleapis.com/du-prd/books/images/9781501110375.jpg\"/>,\n",
       " <img alt=\"HIGH STAKES by Danielle Steel\" itemprop=\"image\" role=\"presentation\" src=\"https://storage.googleapis.com/du-prd/books/images/9781984821713.jpg\"/>,\n",
       " <img alt=\"VERITY by Colleen Hoover\" itemprop=\"image\" role=\"presentation\" src=\"https://storage.googleapis.com/du-prd/books/images/9781791392796.jpg\"/>,\n",
       " <img alt=\"THE PARIS APARTMENT by Lucy Foley\" itemprop=\"image\" role=\"presentation\" src=\"https://storage.googleapis.com/du-prd/books/images/9780063003057.jpg\"/>,\n",
       " <img alt=\"THE SEVEN HUSBANDS OF EVELYN HUGO by Taylor Jenkins Reid\" itemprop=\"image\" role=\"presentation\" src=\"https://storage.googleapis.com/du-prd/books/images/9781501161933.jpg\"/>,\n",
       " <img alt=\"THE GOLDEN COUPLE by Greer Hendricks and Sarah Pekkanen\" itemprop=\"image\" role=\"presentation\" src=\"https://storage.googleapis.com/du-prd/books/images/9781250273208.jpg\"/>,\n",
       " <img alt=\"THE LIGHTNING ROD by Brad Meltzer\" itemprop=\"image\" role=\"presentation\" src=\"https://storage.googleapis.com/du-prd/books/images/9780062892409.jpg\"/>,\n",
       " <img alt=\"ONE ITALIAN SUMMER by Rebecca Serle\" itemprop=\"image\" role=\"presentation\" src=\"https://storage.googleapis.com/du-prd/books/images/9781982166793.jpg\"/>,\n",
       " <img alt=\"THE LOVE HYPOTHESIS by Ali Hazelwood\" itemprop=\"image\" role=\"presentation\" src=\"https://storage.googleapis.com/du-prd/books/images/9780593336823.jpg\"/>,\n",
       " <img alt=\"PEOPLE WE MEET ON VACATION by Emily Henry\" itemprop=\"image\" role=\"presentation\" src=\"https://storage.googleapis.com/du-prd/books/images/9781984806758.jpg\"/>,\n",
       " <img alt=\"THE MIDNIGHT LIBRARY by Matt Haig\" itemprop=\"image\" role=\"presentation\" src=\"https://storage.googleapis.com/du-prd/books/images/9780525559474.jpg\"/>,\n",
       " <img alt=\"THE LINCOLN HIGHWAY by Amor Towles\" itemprop=\"image\" role=\"presentation\" src=\"https://storage.googleapis.com/du-prd/books/images/9780735222359.jpg\"/>,\n",
       " <img alt=\"THE MAID by Nita Prose\" itemprop=\"image\" role=\"presentation\" src=\"https://storage.googleapis.com/du-prd/books/images/9780593356159.jpg\"/>]"
      ]
     },
     "execution_count": 46,
     "metadata": {},
     "output_type": "execute_result"
    }
   ],
   "source": [
    "results"
   ]
  },
  {
   "cell_type": "code",
   "execution_count": 47,
   "id": "4c497c32-88d8-4ad9-9391-f0d141537ffa",
   "metadata": {},
   "outputs": [
    {
     "data": {
      "text/plain": [
       "'https://storage.googleapis.com/du-prd/books/images/9780759554344.jpg'"
      ]
     },
     "execution_count": 47,
     "metadata": {},
     "output_type": "execute_result"
    }
   ],
   "source": [
    "results[0][\"src\"]"
   ]
  },
  {
   "cell_type": "code",
   "execution_count": 48,
   "id": "9ef9fc13-fae6-46f8-938c-80cf9ac689ed",
   "metadata": {},
   "outputs": [],
   "source": [
    "images = [r[\"src\"] for r in results]"
   ]
  },
  {
   "cell_type": "code",
   "execution_count": 49,
   "id": "330e5468-2f13-41e4-bd6b-83457161e448",
   "metadata": {},
   "outputs": [
    {
     "data": {
      "text/plain": [
       "['https://storage.googleapis.com/du-prd/books/images/9780759554344.jpg',\n",
       " 'https://storage.googleapis.com/du-prd/books/images/9780593331262.jpg',\n",
       " 'https://storage.googleapis.com/du-prd/books/images/9781501110375.jpg',\n",
       " 'https://storage.googleapis.com/du-prd/books/images/9781984821713.jpg',\n",
       " 'https://storage.googleapis.com/du-prd/books/images/9781791392796.jpg',\n",
       " 'https://storage.googleapis.com/du-prd/books/images/9780063003057.jpg',\n",
       " 'https://storage.googleapis.com/du-prd/books/images/9781501161933.jpg',\n",
       " 'https://storage.googleapis.com/du-prd/books/images/9781250273208.jpg',\n",
       " 'https://storage.googleapis.com/du-prd/books/images/9780062892409.jpg',\n",
       " 'https://storage.googleapis.com/du-prd/books/images/9781982166793.jpg',\n",
       " 'https://storage.googleapis.com/du-prd/books/images/9780593336823.jpg',\n",
       " 'https://storage.googleapis.com/du-prd/books/images/9781984806758.jpg',\n",
       " 'https://storage.googleapis.com/du-prd/books/images/9780525559474.jpg',\n",
       " 'https://storage.googleapis.com/du-prd/books/images/9780735222359.jpg',\n",
       " 'https://storage.googleapis.com/du-prd/books/images/9780593356159.jpg']"
      ]
     },
     "execution_count": 49,
     "metadata": {},
     "output_type": "execute_result"
    }
   ],
   "source": [
    "images"
   ]
  },
  {
   "cell_type": "code",
   "execution_count": 51,
   "id": "6ced2b66-d111-43d1-9c6e-fdcf35d5bbc4",
   "metadata": {},
   "outputs": [],
   "source": [
    "book_info = list(zip(titles, authors, images))"
   ]
  },
  {
   "cell_type": "code",
   "execution_count": 59,
   "id": "0b3b2fa3-3857-42c0-95b6-9d688ff2c1b0",
   "metadata": {},
   "outputs": [],
   "source": [
    "def get_book_info(page):\n",
    "    soup = BeautifulSoup(page, 'html.parser')\n",
    "    results = soup.select('article h3[itemprop=\"name\"]')\n",
    "    titles = [r.text for r in results]\n",
    "    \n",
    "    results = soup.select('article p[itemprop=\"author\"]')\n",
    "    authors = [r.text for r in results]\n",
    "    \n",
    "    results = soup.select('article img[itemprop=\"image\"]')\n",
    "    images = [r[\"src\"] for r in results]\n",
    "    \n",
    "    return list(zip(titles, authors, images))"
   ]
  },
  {
   "cell_type": "code",
   "execution_count": 53,
   "id": "a7d459dd-c032-48ed-99f8-069bbcb5f8f1",
   "metadata": {},
   "outputs": [
    {
     "data": {
      "text/plain": [
       "[('RUN, ROSE, RUN',\n",
       "  'by Dolly Parton and James Patterson',\n",
       "  'https://storage.googleapis.com/du-prd/books/images/9780759554344.jpg'),\n",
       " ('SHADOWS REEL',\n",
       "  'by C.J. Box',\n",
       "  'https://storage.googleapis.com/du-prd/books/images/9780593331262.jpg'),\n",
       " ('IT ENDS WITH US',\n",
       "  'by Colleen Hoover',\n",
       "  'https://storage.googleapis.com/du-prd/books/images/9781501110375.jpg'),\n",
       " ('HIGH STAKES',\n",
       "  'by Danielle Steel',\n",
       "  'https://storage.googleapis.com/du-prd/books/images/9781984821713.jpg'),\n",
       " ('VERITY',\n",
       "  'by Colleen Hoover',\n",
       "  'https://storage.googleapis.com/du-prd/books/images/9781791392796.jpg'),\n",
       " ('THE PARIS APARTMENT',\n",
       "  'by Lucy Foley',\n",
       "  'https://storage.googleapis.com/du-prd/books/images/9780063003057.jpg'),\n",
       " ('THE SEVEN HUSBANDS OF EVELYN HUGO',\n",
       "  'by Taylor Jenkins Reid',\n",
       "  'https://storage.googleapis.com/du-prd/books/images/9781501161933.jpg'),\n",
       " ('THE GOLDEN COUPLE',\n",
       "  'by Greer Hendricks and Sarah Pekkanen',\n",
       "  'https://storage.googleapis.com/du-prd/books/images/9781250273208.jpg'),\n",
       " ('THE LIGHTNING ROD',\n",
       "  'by Brad Meltzer',\n",
       "  'https://storage.googleapis.com/du-prd/books/images/9780062892409.jpg'),\n",
       " ('ONE ITALIAN SUMMER',\n",
       "  'by Rebecca Serle',\n",
       "  'https://storage.googleapis.com/du-prd/books/images/9781982166793.jpg'),\n",
       " ('THE LOVE HYPOTHESIS',\n",
       "  'by Ali Hazelwood',\n",
       "  'https://storage.googleapis.com/du-prd/books/images/9780593336823.jpg'),\n",
       " ('PEOPLE WE MEET ON VACATION',\n",
       "  'by Emily Henry',\n",
       "  'https://storage.googleapis.com/du-prd/books/images/9781984806758.jpg'),\n",
       " ('THE MIDNIGHT LIBRARY',\n",
       "  'by Matt Haig',\n",
       "  'https://storage.googleapis.com/du-prd/books/images/9780525559474.jpg'),\n",
       " ('THE LINCOLN HIGHWAY',\n",
       "  'by Amor Towles',\n",
       "  'https://storage.googleapis.com/du-prd/books/images/9780735222359.jpg'),\n",
       " ('THE MAID',\n",
       "  'by Nita Prose',\n",
       "  'https://storage.googleapis.com/du-prd/books/images/9780593356159.jpg')]"
      ]
     },
     "execution_count": 53,
     "metadata": {},
     "output_type": "execute_result"
    }
   ],
   "source": [
    "get_book_info(page)"
   ]
  },
  {
   "cell_type": "code",
   "execution_count": 56,
   "id": "5487d42b-0c85-4241-abaf-a481ef5bbc8c",
   "metadata": {},
   "outputs": [],
   "source": [
    "with open(\"multi_page/articles.html\", \"r\") as f:\n",
    "    page = f.read()"
   ]
  },
  {
   "cell_type": "code",
   "execution_count": 71,
   "id": "b2ac3e39-7354-49af-a3fd-edfbbc3046f0",
   "metadata": {},
   "outputs": [],
   "source": [
    "top_books = get_book_info(page)"
   ]
  },
  {
   "cell_type": "code",
   "execution_count": 72,
   "id": "8e831d7c-9648-4918-929d-c71f55172d99",
   "metadata": {},
   "outputs": [],
   "source": [
    "from IPython.display import Image, display"
   ]
  },
  {
   "cell_type": "code",
   "execution_count": 73,
   "id": "07edba9f-a7e0-4d38-b227-4eb99ace38ea",
   "metadata": {},
   "outputs": [
    {
     "name": "stdout",
     "output_type": "stream",
     "text": [
      "RUN, ROSE, RUN\n",
      "by Dolly Parton and James Patterson\n"
     ]
    },
    {
     "data": {
      "text/html": [
       "<img src=\"https://storage.googleapis.com/du-prd/books/images/9780759554344.jpg\" width=\"50\"/>"
      ],
      "text/plain": [
       "<IPython.core.display.Image object>"
      ]
     },
     "metadata": {},
     "output_type": "display_data"
    },
    {
     "name": "stdout",
     "output_type": "stream",
     "text": [
      "SHADOWS REEL\n",
      "by C.J. Box\n"
     ]
    },
    {
     "data": {
      "text/html": [
       "<img src=\"https://storage.googleapis.com/du-prd/books/images/9780593331262.jpg\" width=\"50\"/>"
      ],
      "text/plain": [
       "<IPython.core.display.Image object>"
      ]
     },
     "metadata": {},
     "output_type": "display_data"
    },
    {
     "name": "stdout",
     "output_type": "stream",
     "text": [
      "IT ENDS WITH US\n",
      "by Colleen Hoover\n"
     ]
    },
    {
     "data": {
      "text/html": [
       "<img src=\"https://storage.googleapis.com/du-prd/books/images/9781501110375.jpg\" width=\"50\"/>"
      ],
      "text/plain": [
       "<IPython.core.display.Image object>"
      ]
     },
     "metadata": {},
     "output_type": "display_data"
    },
    {
     "name": "stdout",
     "output_type": "stream",
     "text": [
      "HIGH STAKES\n",
      "by Danielle Steel\n"
     ]
    },
    {
     "data": {
      "text/html": [
       "<img src=\"https://storage.googleapis.com/du-prd/books/images/9781984821713.jpg\" width=\"50\"/>"
      ],
      "text/plain": [
       "<IPython.core.display.Image object>"
      ]
     },
     "metadata": {},
     "output_type": "display_data"
    },
    {
     "name": "stdout",
     "output_type": "stream",
     "text": [
      "VERITY\n",
      "by Colleen Hoover\n"
     ]
    },
    {
     "data": {
      "text/html": [
       "<img src=\"https://storage.googleapis.com/du-prd/books/images/9781791392796.jpg\" width=\"50\"/>"
      ],
      "text/plain": [
       "<IPython.core.display.Image object>"
      ]
     },
     "metadata": {},
     "output_type": "display_data"
    },
    {
     "name": "stdout",
     "output_type": "stream",
     "text": [
      "THE PARIS APARTMENT\n",
      "by Lucy Foley\n"
     ]
    },
    {
     "data": {
      "text/html": [
       "<img src=\"https://storage.googleapis.com/du-prd/books/images/9780063003057.jpg\" width=\"50\"/>"
      ],
      "text/plain": [
       "<IPython.core.display.Image object>"
      ]
     },
     "metadata": {},
     "output_type": "display_data"
    },
    {
     "name": "stdout",
     "output_type": "stream",
     "text": [
      "THE SEVEN HUSBANDS OF EVELYN HUGO\n",
      "by Taylor Jenkins Reid\n"
     ]
    },
    {
     "data": {
      "text/html": [
       "<img src=\"https://storage.googleapis.com/du-prd/books/images/9781501161933.jpg\" width=\"50\"/>"
      ],
      "text/plain": [
       "<IPython.core.display.Image object>"
      ]
     },
     "metadata": {},
     "output_type": "display_data"
    },
    {
     "name": "stdout",
     "output_type": "stream",
     "text": [
      "THE GOLDEN COUPLE\n",
      "by Greer Hendricks and Sarah Pekkanen\n"
     ]
    },
    {
     "data": {
      "text/html": [
       "<img src=\"https://storage.googleapis.com/du-prd/books/images/9781250273208.jpg\" width=\"50\"/>"
      ],
      "text/plain": [
       "<IPython.core.display.Image object>"
      ]
     },
     "metadata": {},
     "output_type": "display_data"
    },
    {
     "name": "stdout",
     "output_type": "stream",
     "text": [
      "THE LIGHTNING ROD\n",
      "by Brad Meltzer\n"
     ]
    },
    {
     "data": {
      "text/html": [
       "<img src=\"https://storage.googleapis.com/du-prd/books/images/9780062892409.jpg\" width=\"50\"/>"
      ],
      "text/plain": [
       "<IPython.core.display.Image object>"
      ]
     },
     "metadata": {},
     "output_type": "display_data"
    },
    {
     "name": "stdout",
     "output_type": "stream",
     "text": [
      "ONE ITALIAN SUMMER\n",
      "by Rebecca Serle\n"
     ]
    },
    {
     "data": {
      "text/html": [
       "<img src=\"https://storage.googleapis.com/du-prd/books/images/9781982166793.jpg\" width=\"50\"/>"
      ],
      "text/plain": [
       "<IPython.core.display.Image object>"
      ]
     },
     "metadata": {},
     "output_type": "display_data"
    },
    {
     "name": "stdout",
     "output_type": "stream",
     "text": [
      "THE LOVE HYPOTHESIS\n",
      "by Ali Hazelwood\n"
     ]
    },
    {
     "data": {
      "text/html": [
       "<img src=\"https://storage.googleapis.com/du-prd/books/images/9780593336823.jpg\" width=\"50\"/>"
      ],
      "text/plain": [
       "<IPython.core.display.Image object>"
      ]
     },
     "metadata": {},
     "output_type": "display_data"
    },
    {
     "name": "stdout",
     "output_type": "stream",
     "text": [
      "PEOPLE WE MEET ON VACATION\n",
      "by Emily Henry\n"
     ]
    },
    {
     "data": {
      "text/html": [
       "<img src=\"https://storage.googleapis.com/du-prd/books/images/9781984806758.jpg\" width=\"50\"/>"
      ],
      "text/plain": [
       "<IPython.core.display.Image object>"
      ]
     },
     "metadata": {},
     "output_type": "display_data"
    },
    {
     "name": "stdout",
     "output_type": "stream",
     "text": [
      "THE MIDNIGHT LIBRARY\n",
      "by Matt Haig\n"
     ]
    },
    {
     "data": {
      "text/html": [
       "<img src=\"https://storage.googleapis.com/du-prd/books/images/9780525559474.jpg\" width=\"50\"/>"
      ],
      "text/plain": [
       "<IPython.core.display.Image object>"
      ]
     },
     "metadata": {},
     "output_type": "display_data"
    },
    {
     "name": "stdout",
     "output_type": "stream",
     "text": [
      "THE LINCOLN HIGHWAY\n",
      "by Amor Towles\n"
     ]
    },
    {
     "data": {
      "text/html": [
       "<img src=\"https://storage.googleapis.com/du-prd/books/images/9780735222359.jpg\" width=\"50\"/>"
      ],
      "text/plain": [
       "<IPython.core.display.Image object>"
      ]
     },
     "metadata": {},
     "output_type": "display_data"
    },
    {
     "name": "stdout",
     "output_type": "stream",
     "text": [
      "THE MAID\n",
      "by Nita Prose\n"
     ]
    },
    {
     "data": {
      "text/html": [
       "<img src=\"https://storage.googleapis.com/du-prd/books/images/9780593356159.jpg\" width=\"50\"/>"
      ],
      "text/plain": [
       "<IPython.core.display.Image object>"
      ]
     },
     "metadata": {},
     "output_type": "display_data"
    },
    {
     "name": "stdout",
     "output_type": "stream",
     "text": [
      "HOOK, LINE, AND SINKER\n",
      "by Tessa Bailey\n"
     ]
    },
    {
     "data": {
      "text/html": [
       "<img src=\"https://storage.googleapis.com/du-prd/books/images/9780063045699.jpg\" width=\"50\"/>"
      ],
      "text/plain": [
       "<IPython.core.display.Image object>"
      ]
     },
     "metadata": {},
     "output_type": "display_data"
    },
    {
     "name": "stdout",
     "output_type": "stream",
     "text": [
      "IT ENDS WITH US\n",
      "by Colleen Hoover\n"
     ]
    },
    {
     "data": {
      "text/html": [
       "<img src=\"https://storage.googleapis.com/du-prd/books/images/9781501110375.jpg\" width=\"50\"/>"
      ],
      "text/plain": [
       "<IPython.core.display.Image object>"
      ]
     },
     "metadata": {},
     "output_type": "display_data"
    },
    {
     "name": "stdout",
     "output_type": "stream",
     "text": [
      "THE PARIS APARTMENT\n",
      "by Lucy Foley\n"
     ]
    },
    {
     "data": {
      "text/html": [
       "<img src=\"https://storage.googleapis.com/du-prd/books/images/9780063003057.jpg\" width=\"50\"/>"
      ],
      "text/plain": [
       "<IPython.core.display.Image object>"
      ]
     },
     "metadata": {},
     "output_type": "display_data"
    },
    {
     "name": "stdout",
     "output_type": "stream",
     "text": [
      "VERITY\n",
      "by Colleen Hoover\n"
     ]
    },
    {
     "data": {
      "text/html": [
       "<img src=\"https://storage.googleapis.com/du-prd/books/images/9781791392796.jpg\" width=\"50\"/>"
      ],
      "text/plain": [
       "<IPython.core.display.Image object>"
      ]
     },
     "metadata": {},
     "output_type": "display_data"
    },
    {
     "name": "stdout",
     "output_type": "stream",
     "text": [
      "THE SEVEN HUSBANDS OF EVELYN HUGO\n",
      "by Taylor Jenkins Reid\n"
     ]
    },
    {
     "data": {
      "text/html": [
       "<img src=\"https://storage.googleapis.com/du-prd/books/images/9781501161933.jpg\" width=\"50\"/>"
      ],
      "text/plain": [
       "<IPython.core.display.Image object>"
      ]
     },
     "metadata": {},
     "output_type": "display_data"
    },
    {
     "name": "stdout",
     "output_type": "stream",
     "text": [
      "PHANTOM GAME\n",
      "by Christine Feehan\n"
     ]
    },
    {
     "data": {
      "text/html": [
       "<img src=\"https://storage.googleapis.com/du-prd/books/images/9780593439098.jpg\" width=\"50\"/>"
      ],
      "text/plain": [
       "<IPython.core.display.Image object>"
      ]
     },
     "metadata": {},
     "output_type": "display_data"
    },
    {
     "name": "stdout",
     "output_type": "stream",
     "text": [
      "HOUSE OF SKY AND BREATH\n",
      "by Sarah J. Maas\n"
     ]
    },
    {
     "data": {
      "text/html": [
       "<img src=\"https://storage.googleapis.com/du-prd/books/images/9781635574074.jpg\" width=\"50\"/>"
      ],
      "text/plain": [
       "<IPython.core.display.Image object>"
      ]
     },
     "metadata": {},
     "output_type": "display_data"
    },
    {
     "name": "stdout",
     "output_type": "stream",
     "text": [
      "ONE ITALIAN SUMMER\n",
      "by Rebecca Serle\n"
     ]
    },
    {
     "data": {
      "text/html": [
       "<img src=\"https://storage.googleapis.com/du-prd/books/images/9781982166793.jpg\" width=\"50\"/>"
      ],
      "text/plain": [
       "<IPython.core.display.Image object>"
      ]
     },
     "metadata": {},
     "output_type": "display_data"
    },
    {
     "name": "stdout",
     "output_type": "stream",
     "text": [
      "UGLY LOVE\n",
      "by Colleen Hoover\n"
     ]
    },
    {
     "data": {
      "text/html": [
       "<img src=\"https://storage.googleapis.com/du-prd/books/images/9781476753195.jpg\" width=\"50\"/>"
      ],
      "text/plain": [
       "<IPython.core.display.Image object>"
      ]
     },
     "metadata": {},
     "output_type": "display_data"
    },
    {
     "name": "stdout",
     "output_type": "stream",
     "text": [
      "THE LOVE HYPOTHESIS\n",
      "by Ali Hazelwood\n"
     ]
    },
    {
     "data": {
      "text/html": [
       "<img src=\"https://storage.googleapis.com/du-prd/books/images/9780593336823.jpg\" width=\"50\"/>"
      ],
      "text/plain": [
       "<IPython.core.display.Image object>"
      ]
     },
     "metadata": {},
     "output_type": "display_data"
    },
    {
     "name": "stdout",
     "output_type": "stream",
     "text": [
      "SOOLEY\n",
      "by John Grisham\n"
     ]
    },
    {
     "data": {
      "text/html": [
       "<img src=\"https://storage.googleapis.com/du-prd/books/images/9780385547680.jpg\" width=\"50\"/>"
      ],
      "text/plain": [
       "<IPython.core.display.Image object>"
      ]
     },
     "metadata": {},
     "output_type": "display_data"
    },
    {
     "name": "stdout",
     "output_type": "stream",
     "text": [
      "THE MAID\n",
      "by Nita Prose\n"
     ]
    },
    {
     "data": {
      "text/html": [
       "<img src=\"https://storage.googleapis.com/du-prd/books/images/9780593356159.jpg\" width=\"50\"/>"
      ],
      "text/plain": [
       "<IPython.core.display.Image object>"
      ]
     },
     "metadata": {},
     "output_type": "display_data"
    },
    {
     "name": "stdout",
     "output_type": "stream",
     "text": [
      "THE LINCOLN HIGHWAY\n",
      "by Amor Towles\n"
     ]
    },
    {
     "data": {
      "text/html": [
       "<img src=\"https://storage.googleapis.com/du-prd/books/images/9780735222359.jpg\" width=\"50\"/>"
      ],
      "text/plain": [
       "<IPython.core.display.Image object>"
      ]
     },
     "metadata": {},
     "output_type": "display_data"
    },
    {
     "name": "stdout",
     "output_type": "stream",
     "text": [
      "THE ATLAS SIX\n",
      "by Olivie Blake\n"
     ]
    },
    {
     "data": {
      "text/html": [
       "<img src=\"https://storage.googleapis.com/du-prd/books/images/9781250854513.jpg\" width=\"50\"/>"
      ],
      "text/plain": [
       "<IPython.core.display.Image object>"
      ]
     },
     "metadata": {},
     "output_type": "display_data"
    },
    {
     "name": "stdout",
     "output_type": "stream",
     "text": [
      "THE CLUB\n",
      "by Ellery Lloyd\n"
     ]
    },
    {
     "data": {
      "text/html": [
       "<img src=\"https://storage.googleapis.com/du-prd/books/images/9780062997425.jpg\" width=\"50\"/>"
      ],
      "text/plain": [
       "<IPython.core.display.Image object>"
      ]
     },
     "metadata": {},
     "output_type": "display_data"
    },
    {
     "name": "stdout",
     "output_type": "stream",
     "text": [
      "THE PARIS APARTMENT\n",
      "by Lucy Foley\n"
     ]
    },
    {
     "data": {
      "text/html": [
       "<img src=\"https://storage.googleapis.com/du-prd/books/images/9780063003057.jpg\" width=\"50\"/>"
      ],
      "text/plain": [
       "<IPython.core.display.Image object>"
      ]
     },
     "metadata": {},
     "output_type": "display_data"
    },
    {
     "name": "stdout",
     "output_type": "stream",
     "text": [
      "IT ENDS WITH US\n",
      "by Colleen Hoover\n"
     ]
    },
    {
     "data": {
      "text/html": [
       "<img src=\"https://storage.googleapis.com/du-prd/books/images/9781501110375.jpg\" width=\"50\"/>"
      ],
      "text/plain": [
       "<IPython.core.display.Image object>"
      ]
     },
     "metadata": {},
     "output_type": "display_data"
    },
    {
     "name": "stdout",
     "output_type": "stream",
     "text": [
      "VERITY\n",
      "by Colleen Hoover\n"
     ]
    },
    {
     "data": {
      "text/html": [
       "<img src=\"https://storage.googleapis.com/du-prd/books/images/9781791392796.jpg\" width=\"50\"/>"
      ],
      "text/plain": [
       "<IPython.core.display.Image object>"
      ]
     },
     "metadata": {},
     "output_type": "display_data"
    },
    {
     "name": "stdout",
     "output_type": "stream",
     "text": [
      "HOUSE OF SKY AND BREATH\n",
      "by Sarah J. Maas\n"
     ]
    },
    {
     "data": {
      "text/html": [
       "<img src=\"https://storage.googleapis.com/du-prd/books/images/9781635574074.jpg\" width=\"50\"/>"
      ],
      "text/plain": [
       "<IPython.core.display.Image object>"
      ]
     },
     "metadata": {},
     "output_type": "display_data"
    },
    {
     "name": "stdout",
     "output_type": "stream",
     "text": [
      "THE SEVEN HUSBANDS OF EVELYN HUGO\n",
      "by Taylor Jenkins Reid\n"
     ]
    },
    {
     "data": {
      "text/html": [
       "<img src=\"https://storage.googleapis.com/du-prd/books/images/9781501161933.jpg\" width=\"50\"/>"
      ],
      "text/plain": [
       "<IPython.core.display.Image object>"
      ]
     },
     "metadata": {},
     "output_type": "display_data"
    },
    {
     "name": "stdout",
     "output_type": "stream",
     "text": [
      "NOTHING TO LOSE\n",
      "by J.A. Jance\n"
     ]
    },
    {
     "data": {
      "text/html": [
       "<img src=\"https://storage.googleapis.com/du-prd/books/images/9780063010062.jpg\" width=\"50\"/>"
      ],
      "text/plain": [
       "<IPython.core.display.Image object>"
      ]
     },
     "metadata": {},
     "output_type": "display_data"
    },
    {
     "name": "stdout",
     "output_type": "stream",
     "text": [
      "THE LOVE HYPOTHESIS\n",
      "by Ali Hazelwood\n"
     ]
    },
    {
     "data": {
      "text/html": [
       "<img src=\"https://storage.googleapis.com/du-prd/books/images/9780593336823.jpg\" width=\"50\"/>"
      ],
      "text/plain": [
       "<IPython.core.display.Image object>"
      ]
     },
     "metadata": {},
     "output_type": "display_data"
    },
    {
     "name": "stdout",
     "output_type": "stream",
     "text": [
      "THE LINCOLN HIGHWAY\n",
      "by Amor Towles\n"
     ]
    },
    {
     "data": {
      "text/html": [
       "<img src=\"https://storage.googleapis.com/du-prd/books/images/9780735222359.jpg\" width=\"50\"/>"
      ],
      "text/plain": [
       "<IPython.core.display.Image object>"
      ]
     },
     "metadata": {},
     "output_type": "display_data"
    },
    {
     "name": "stdout",
     "output_type": "stream",
     "text": [
      "THE MAID\n",
      "by Nita Prose\n"
     ]
    },
    {
     "data": {
      "text/html": [
       "<img src=\"https://storage.googleapis.com/du-prd/books/images/9780593356159.jpg\" width=\"50\"/>"
      ],
      "text/plain": [
       "<IPython.core.display.Image object>"
      ]
     },
     "metadata": {},
     "output_type": "display_data"
    },
    {
     "name": "stdout",
     "output_type": "stream",
     "text": [
      "WISH YOU WERE HERE\n",
      "by Jodi Picoult\n"
     ]
    },
    {
     "data": {
      "text/html": [
       "<img src=\"https://storage.googleapis.com/du-prd/books/images/9781984818416.jpg\" width=\"50\"/>"
      ],
      "text/plain": [
       "<IPython.core.display.Image object>"
      ]
     },
     "metadata": {},
     "output_type": "display_data"
    },
    {
     "name": "stdout",
     "output_type": "stream",
     "text": [
      "CARAMEL PECAN ROLL MURDER\n",
      "by Joanne Fluke\n"
     ]
    },
    {
     "data": {
      "text/html": [
       "<img src=\"https://storage.googleapis.com/du-prd/books/images/9781496736086.jpg\" width=\"50\"/>"
      ],
      "text/plain": [
       "<IPython.core.display.Image object>"
      ]
     },
     "metadata": {},
     "output_type": "display_data"
    },
    {
     "name": "stdout",
     "output_type": "stream",
     "text": [
      "THE MIDNIGHT LIBRARY\n",
      "by Matt Haig\n"
     ]
    },
    {
     "data": {
      "text/html": [
       "<img src=\"https://storage.googleapis.com/du-prd/books/images/9780525559474.jpg\" width=\"50\"/>"
      ],
      "text/plain": [
       "<IPython.core.display.Image object>"
      ]
     },
     "metadata": {},
     "output_type": "display_data"
    },
    {
     "name": "stdout",
     "output_type": "stream",
     "text": [
      "THE LAST THING HE TOLD ME\n",
      "by Laura Dave\n"
     ]
    },
    {
     "data": {
      "text/html": [
       "<img src=\"https://storage.googleapis.com/du-prd/books/images/9781501171345.jpg\" width=\"50\"/>"
      ],
      "text/plain": [
       "<IPython.core.display.Image object>"
      ]
     },
     "metadata": {},
     "output_type": "display_data"
    },
    {
     "name": "stdout",
     "output_type": "stream",
     "text": [
      "UGLY LOVE\n",
      "by Colleen Hoover\n"
     ]
    },
    {
     "data": {
      "text/html": [
       "<img src=\"https://storage.googleapis.com/du-prd/books/images/9781476753195.jpg\" width=\"50\"/>"
      ],
      "text/plain": [
       "<IPython.core.display.Image object>"
      ]
     },
     "metadata": {},
     "output_type": "display_data"
    },
    {
     "name": "stdout",
     "output_type": "stream",
     "text": [
      "WHERE THE CRAWDADS SING\n",
      "by Delia Owens\n"
     ]
    },
    {
     "data": {
      "text/html": [
       "<img src=\"https://storage.googleapis.com/du-prd/books/images/9780735219090.jpg\" width=\"50\"/>"
      ],
      "text/plain": [
       "<IPython.core.display.Image object>"
      ]
     },
     "metadata": {},
     "output_type": "display_data"
    }
   ],
   "source": [
    "for book in get_book_info(page):\n",
    "    print(book[0])\n",
    "    print(book[1])\n",
    "    display(Image(url=book[2], width=50))"
   ]
  },
  {
   "cell_type": "code",
   "execution_count": 77,
   "id": "8d42a735-3d9b-4baa-9bfd-7230a7c39951",
   "metadata": {},
   "outputs": [],
   "source": [
    "import pandas as pd\n",
    "\n",
    "top_books_df = pd.DataFrame(top_books, columns=[\"title\", \"author\", \"cover_url\"])"
   ]
  },
  {
   "cell_type": "code",
   "execution_count": 82,
   "id": "8da84bc6-e1ae-4b1d-9e4e-239189ffd564",
   "metadata": {},
   "outputs": [
    {
     "data": {
      "text/html": [
       "<div>\n",
       "<style scoped>\n",
       "    .dataframe tbody tr th:only-of-type {\n",
       "        vertical-align: middle;\n",
       "    }\n",
       "\n",
       "    .dataframe tbody tr th {\n",
       "        vertical-align: top;\n",
       "    }\n",
       "\n",
       "    .dataframe thead th {\n",
       "        text-align: right;\n",
       "    }\n",
       "</style>\n",
       "<table border=\"1\" class=\"dataframe\">\n",
       "  <thead>\n",
       "    <tr style=\"text-align: right;\">\n",
       "      <th></th>\n",
       "      <th>author</th>\n",
       "      <th>cover_url</th>\n",
       "    </tr>\n",
       "    <tr>\n",
       "      <th>title</th>\n",
       "      <th></th>\n",
       "      <th></th>\n",
       "    </tr>\n",
       "  </thead>\n",
       "  <tbody>\n",
       "    <tr>\n",
       "      <th>IT ENDS WITH US</th>\n",
       "      <td>3</td>\n",
       "      <td>3</td>\n",
       "    </tr>\n",
       "    <tr>\n",
       "      <th>VERITY</th>\n",
       "      <td>3</td>\n",
       "      <td>3</td>\n",
       "    </tr>\n",
       "    <tr>\n",
       "      <th>THE SEVEN HUSBANDS OF EVELYN HUGO</th>\n",
       "      <td>3</td>\n",
       "      <td>3</td>\n",
       "    </tr>\n",
       "    <tr>\n",
       "      <th>THE PARIS APARTMENT</th>\n",
       "      <td>3</td>\n",
       "      <td>3</td>\n",
       "    </tr>\n",
       "    <tr>\n",
       "      <th>THE MAID</th>\n",
       "      <td>3</td>\n",
       "      <td>3</td>\n",
       "    </tr>\n",
       "    <tr>\n",
       "      <th>THE LOVE HYPOTHESIS</th>\n",
       "      <td>3</td>\n",
       "      <td>3</td>\n",
       "    </tr>\n",
       "    <tr>\n",
       "      <th>THE LINCOLN HIGHWAY</th>\n",
       "      <td>3</td>\n",
       "      <td>3</td>\n",
       "    </tr>\n",
       "    <tr>\n",
       "      <th>HOUSE OF SKY AND BREATH</th>\n",
       "      <td>2</td>\n",
       "      <td>2</td>\n",
       "    </tr>\n",
       "    <tr>\n",
       "      <th>ONE ITALIAN SUMMER</th>\n",
       "      <td>2</td>\n",
       "      <td>2</td>\n",
       "    </tr>\n",
       "    <tr>\n",
       "      <th>UGLY LOVE</th>\n",
       "      <td>2</td>\n",
       "      <td>2</td>\n",
       "    </tr>\n",
       "    <tr>\n",
       "      <th>THE MIDNIGHT LIBRARY</th>\n",
       "      <td>2</td>\n",
       "      <td>2</td>\n",
       "    </tr>\n",
       "    <tr>\n",
       "      <th>CARAMEL PECAN ROLL MURDER</th>\n",
       "      <td>1</td>\n",
       "      <td>1</td>\n",
       "    </tr>\n",
       "    <tr>\n",
       "      <th>THE LAST THING HE TOLD ME</th>\n",
       "      <td>1</td>\n",
       "      <td>1</td>\n",
       "    </tr>\n",
       "    <tr>\n",
       "      <th>WHERE THE CRAWDADS SING</th>\n",
       "      <td>1</td>\n",
       "      <td>1</td>\n",
       "    </tr>\n",
       "    <tr>\n",
       "      <th>THE LIGHTNING ROD</th>\n",
       "      <td>1</td>\n",
       "      <td>1</td>\n",
       "    </tr>\n",
       "    <tr>\n",
       "      <th>THE CLUB</th>\n",
       "      <td>1</td>\n",
       "      <td>1</td>\n",
       "    </tr>\n",
       "    <tr>\n",
       "      <th>THE GOLDEN COUPLE</th>\n",
       "      <td>1</td>\n",
       "      <td>1</td>\n",
       "    </tr>\n",
       "    <tr>\n",
       "      <th>HIGH STAKES</th>\n",
       "      <td>1</td>\n",
       "      <td>1</td>\n",
       "    </tr>\n",
       "    <tr>\n",
       "      <th>THE ATLAS SIX</th>\n",
       "      <td>1</td>\n",
       "      <td>1</td>\n",
       "    </tr>\n",
       "    <tr>\n",
       "      <th>SOOLEY</th>\n",
       "      <td>1</td>\n",
       "      <td>1</td>\n",
       "    </tr>\n",
       "    <tr>\n",
       "      <th>SHADOWS REEL</th>\n",
       "      <td>1</td>\n",
       "      <td>1</td>\n",
       "    </tr>\n",
       "    <tr>\n",
       "      <th>RUN, ROSE, RUN</th>\n",
       "      <td>1</td>\n",
       "      <td>1</td>\n",
       "    </tr>\n",
       "    <tr>\n",
       "      <th>PHANTOM GAME</th>\n",
       "      <td>1</td>\n",
       "      <td>1</td>\n",
       "    </tr>\n",
       "    <tr>\n",
       "      <th>PEOPLE WE MEET ON VACATION</th>\n",
       "      <td>1</td>\n",
       "      <td>1</td>\n",
       "    </tr>\n",
       "    <tr>\n",
       "      <th>NOTHING TO LOSE</th>\n",
       "      <td>1</td>\n",
       "      <td>1</td>\n",
       "    </tr>\n",
       "    <tr>\n",
       "      <th>HOOK, LINE, AND SINKER</th>\n",
       "      <td>1</td>\n",
       "      <td>1</td>\n",
       "    </tr>\n",
       "    <tr>\n",
       "      <th>WISH YOU WERE HERE</th>\n",
       "      <td>1</td>\n",
       "      <td>1</td>\n",
       "    </tr>\n",
       "  </tbody>\n",
       "</table>\n",
       "</div>"
      ],
      "text/plain": [
       "                                   author  cover_url\n",
       "title                                               \n",
       "IT ENDS WITH US                         3          3\n",
       "VERITY                                  3          3\n",
       "THE SEVEN HUSBANDS OF EVELYN HUGO       3          3\n",
       "THE PARIS APARTMENT                     3          3\n",
       "THE MAID                                3          3\n",
       "THE LOVE HYPOTHESIS                     3          3\n",
       "THE LINCOLN HIGHWAY                     3          3\n",
       "HOUSE OF SKY AND BREATH                 2          2\n",
       "ONE ITALIAN SUMMER                      2          2\n",
       "UGLY LOVE                               2          2\n",
       "THE MIDNIGHT LIBRARY                    2          2\n",
       "CARAMEL PECAN ROLL MURDER               1          1\n",
       "THE LAST THING HE TOLD ME               1          1\n",
       "WHERE THE CRAWDADS SING                 1          1\n",
       "THE LIGHTNING ROD                       1          1\n",
       "THE CLUB                                1          1\n",
       "THE GOLDEN COUPLE                       1          1\n",
       "HIGH STAKES                             1          1\n",
       "THE ATLAS SIX                           1          1\n",
       "SOOLEY                                  1          1\n",
       "SHADOWS REEL                            1          1\n",
       "RUN, ROSE, RUN                          1          1\n",
       "PHANTOM GAME                            1          1\n",
       "PEOPLE WE MEET ON VACATION              1          1\n",
       "NOTHING TO LOSE                         1          1\n",
       "HOOK, LINE, AND SINKER                  1          1\n",
       "WISH YOU WERE HERE                      1          1"
      ]
     },
     "execution_count": 82,
     "metadata": {},
     "output_type": "execute_result"
    }
   ],
   "source": [
    "top_books_df.groupby([\"title\"]).agg(\"count\").sort_values(\"author\", ascending=False)"
   ]
  },
  {
   "cell_type": "code",
   "execution_count": null,
   "id": "ba10dfef-a9e3-41a4-b807-6eca50809238",
   "metadata": {},
   "outputs": [],
   "source": []
  }
 ],
 "metadata": {
  "kernelspec": {
   "display_name": "Python 3 (ipykernel)",
   "language": "python",
   "name": "python3"
  },
  "language_info": {
   "codemirror_mode": {
    "name": "ipython",
    "version": 3
   },
   "file_extension": ".py",
   "mimetype": "text/x-python",
   "name": "python",
   "nbconvert_exporter": "python",
   "pygments_lexer": "ipython3",
   "version": "3.9.10"
  }
 },
 "nbformat": 4,
 "nbformat_minor": 5
}
